{
 "cells": [
  {
   "cell_type": "code",
   "execution_count": 5,
   "metadata": {
    "colab": {},
    "colab_type": "code",
    "id": "Yl93Q5cbh6oZ",
    "pycharm": {
     "is_executing": false
    }
   },
   "outputs": [],
   "source": [
    "import numpy as np\n",
    "import random\n",
    "from ga import GeneticAlgorithm\n",
    "import matplotlib.pyplot as plt\n",
    "\n"
   ]
  },
  {
   "cell_type": "code",
   "execution_count": 6,
   "metadata": {
    "colab": {},
    "colab_type": "code",
    "id": "OJDzBpVljU_i"
   },
   "outputs": [],
   "source": [
    "bound=list(range(1,501))\n",
    "\n",
    "np.random.seed(5)\n",
    "x=np.random.choice(bound,17,replace=False)\n",
    "y=np.random.choice(bound,17,replace=False)\n",
    "\n",
    "\n",
    "np.random.seed(10)\n",
    "x_s=np.random.choice(bound,88,replace=False)\n",
    "y_s=np.random.choice(bound,88,replace=False)\n",
    "t=np.random.choice(list(range(1,4)),88)\n",
    "data=[]\n",
    "for i in range(88):\n",
    "  d={}\n",
    "  d['x_s']=x_s[i]\n",
    "  d['y_s']=y_s[i]\n",
    "  d['type']=t[i]\n",
    "  data.append(d)\n",
    "cost_list=[]\n",
    "for i in range(88):\n",
    "  if(data[i][\"type\"]==1):\n",
    "    cost_list.append(300)\n",
    "  if(data[i][\"type\"]==2):\n",
    "    cost_list.append(170)\n",
    "  if(data[i][\"type\"]==3):\n",
    "    cost_list.append(65)\n",
    "dis_list=[]\n",
    "for i in range(88):\n",
    "  if(data[i][\"type\"]==1):\n",
    "    dis_list.append(100)\n",
    "  if(data[i][\"type\"]==2):\n",
    "    dis_list.append(70)\n",
    "  if(data[i][\"type\"]==3):\n",
    "    dis_list.append(30)"
   ]
  },
  {
   "cell_type": "code",
   "execution_count": 7,
   "metadata": {
    "colab": {},
    "colab_type": "code",
    "id": "P-jOwm-ulZFR"
   },
   "outputs": [],
   "source": [
    "targets=[]\n",
    "coordinate=[]\n",
    "for i in range(len(x)):\n",
    "  coordinate.append(x[i])\n",
    "  coordinate.append(y[i])\n",
    "  targets.append(coordinate)\n",
    "  coordinate=[]\n",
    "\n",
    "s_coordinate=[]\n",
    "sensor_coordinate=[]\n",
    "for i in range(len(data)):\n",
    "  s_coordinate.append(x_s[i])\n",
    "  s_coordinate.append(y_s[i])\n",
    "  sensor_coordinate.append(s_coordinate)\n",
    "  s_coordinate=[]"
   ]
  },
  {
   "cell_type": "code",
   "execution_count": 8,
   "metadata": {
    "colab": {
     "base_uri": "https://localhost:8080/",
     "height": 306
    },
    "colab_type": "code",
    "id": "TTUSUDpUltuw",
    "outputId": "8e3ea2af-0569-4ff2-abc7-92a1b0173350"
   },
   "outputs": [
    {
     "data": {
      "text/plain": [
       "[[242, 447],\n",
       " [449, 477],\n",
       " [76, 313],\n",
       " [213, 442],\n",
       " [482, 217],\n",
       " [281, 45],\n",
       " [475, 160],\n",
       " [270, 232],\n",
       " [41, 28],\n",
       " [223, 270],\n",
       " [57, 10],\n",
       " [345, 441],\n",
       " [473, 4],\n",
       " [249, 287],\n",
       " [222, 390],\n",
       " [301, 323],\n",
       " [157, 377]]"
      ]
     },
     "execution_count": 8,
     "metadata": {},
     "output_type": "execute_result"
    }
   ],
   "source": [
    "targets"
   ]
  },
  {
   "cell_type": "code",
   "execution_count": 9,
   "metadata": {
    "colab": {
     "base_uri": "https://localhost:8080/",
     "height": 1000
    },
    "colab_type": "code",
    "id": "1CQjHTOlpl6U",
    "outputId": "f062f0cb-3cfe-4d44-c650-0bd68e782a10"
   },
   "outputs": [
    {
     "data": {
      "text/plain": [
       "[{'x_s': 152, 'y_s': 41, 'type': 3},\n",
       " {'x_s': 425, 'y_s': 481, 'type': 3},\n",
       " {'x_s': 155, 'y_s': 464, 'type': 3},\n",
       " {'x_s': 191, 'y_s': 150, 'type': 2},\n",
       " {'x_s': 132, 'y_s': 75, 'type': 3},\n",
       " {'x_s': 311, 'y_s': 448, 'type': 1},\n",
       " {'x_s': 267, 'y_s': 151, 'type': 1},\n",
       " {'x_s': 496, 'y_s': 90, 'type': 1},\n",
       " {'x_s': 158, 'y_s': 268, 'type': 3},\n",
       " {'x_s': 283, 'y_s': 18, 'type': 1},\n",
       " {'x_s': 453, 'y_s': 14, 'type': 1},\n",
       " {'x_s': 153, 'y_s': 207, 'type': 1},\n",
       " {'x_s': 165, 'y_s': 178, 'type': 2},\n",
       " {'x_s': 220, 'y_s': 469, 'type': 3},\n",
       " {'x_s': 352, 'y_s': 12, 'type': 3},\n",
       " {'x_s': 434, 'y_s': 309, 'type': 1},\n",
       " {'x_s': 44, 'y_s': 337, 'type': 2},\n",
       " {'x_s': 48, 'y_s': 219, 'type': 2},\n",
       " {'x_s': 468, 'y_s': 235, 'type': 1},\n",
       " {'x_s': 209, 'y_s': 359, 'type': 2},\n",
       " {'x_s': 399, 'y_s': 197, 'type': 1},\n",
       " {'x_s': 438, 'y_s': 17, 'type': 3},\n",
       " {'x_s': 475, 'y_s': 205, 'type': 2},\n",
       " {'x_s': 237, 'y_s': 336, 'type': 3},\n",
       " {'x_s': 369, 'y_s': 426, 'type': 1},\n",
       " {'x_s': 130, 'y_s': 395, 'type': 1},\n",
       " {'x_s': 231, 'y_s': 143, 'type': 1},\n",
       " {'x_s': 346, 'y_s': 223, 'type': 1},\n",
       " {'x_s': 164, 'y_s': 497, 'type': 2},\n",
       " {'x_s': 337, 'y_s': 271, 'type': 1},\n",
       " {'x_s': 194, 'y_s': 478, 'type': 1},\n",
       " {'x_s': 483, 'y_s': 319, 'type': 3},\n",
       " {'x_s': 409, 'y_s': 262, 'type': 1},\n",
       " {'x_s': 486, 'y_s': 65, 'type': 1},\n",
       " {'x_s': 101, 'y_s': 107, 'type': 3},\n",
       " {'x_s': 177, 'y_s': 217, 'type': 1},\n",
       " {'x_s': 219, 'y_s': 281, 'type': 3},\n",
       " {'x_s': 117, 'y_s': 179, 'type': 2},\n",
       " {'x_s': 279, 'y_s': 149, 'type': 3},\n",
       " {'x_s': 281, 'y_s': 479, 'type': 2},\n",
       " {'x_s': 99, 'y_s': 253, 'type': 1},\n",
       " {'x_s': 391, 'y_s': 461, 'type': 1},\n",
       " {'x_s': 115, 'y_s': 473, 'type': 3},\n",
       " {'x_s': 277, 'y_s': 490, 'type': 2},\n",
       " {'x_s': 25, 'y_s': 418, 'type': 1},\n",
       " {'x_s': 92, 'y_s': 288, 'type': 1},\n",
       " {'x_s': 401, 'y_s': 290, 'type': 3},\n",
       " {'x_s': 66, 'y_s': 354, 'type': 2},\n",
       " {'x_s': 120, 'y_s': 434, 'type': 1},\n",
       " {'x_s': 499, 'y_s': 484, 'type': 1},\n",
       " {'x_s': 340, 'y_s': 486, 'type': 3},\n",
       " {'x_s': 302, 'y_s': 444, 'type': 3},\n",
       " {'x_s': 412, 'y_s': 208, 'type': 2},\n",
       " {'x_s': 301, 'y_s': 140, 'type': 1},\n",
       " {'x_s': 303, 'y_s': 44, 'type': 2},\n",
       " {'x_s': 112, 'y_s': 62, 'type': 1},\n",
       " {'x_s': 288, 'y_s': 172, 'type': 1},\n",
       " {'x_s': 8, 'y_s': 155, 'type': 1},\n",
       " {'x_s': 140, 'y_s': 275, 'type': 2},\n",
       " {'x_s': 109, 'y_s': 419, 'type': 1},\n",
       " {'x_s': 103, 'y_s': 409, 'type': 2},\n",
       " {'x_s': 73, 'y_s': 26, 'type': 1},\n",
       " {'x_s': 415, 'y_s': 472, 'type': 3},\n",
       " {'x_s': 328, 'y_s': 302, 'type': 2},\n",
       " {'x_s': 175, 'y_s': 431, 'type': 2},\n",
       " {'x_s': 292, 'y_s': 350, 'type': 1},\n",
       " {'x_s': 482, 'y_s': 130, 'type': 1},\n",
       " {'x_s': 270, 'y_s': 441, 'type': 2},\n",
       " {'x_s': 241, 'y_s': 28, 'type': 2},\n",
       " {'x_s': 223, 'y_s': 320, 'type': 1},\n",
       " {'x_s': 443, 'y_s': 251, 'type': 3},\n",
       " {'x_s': 476, 'y_s': 454, 'type': 1},\n",
       " {'x_s': 61, 'y_s': 376, 'type': 1},\n",
       " {'x_s': 184, 'y_s': 361, 'type': 1},\n",
       " {'x_s': 7, 'y_s': 23, 'type': 2},\n",
       " {'x_s': 239, 'y_s': 188, 'type': 1},\n",
       " {'x_s': 305, 'y_s': 240, 'type': 2},\n",
       " {'x_s': 298, 'y_s': 360, 'type': 2},\n",
       " {'x_s': 218, 'y_s': 407, 'type': 3},\n",
       " {'x_s': 390, 'y_s': 71, 'type': 3},\n",
       " {'x_s': 440, 'y_s': 476, 'type': 1},\n",
       " {'x_s': 262, 'y_s': 80, 'type': 3},\n",
       " {'x_s': 89, 'y_s': 236, 'type': 3},\n",
       " {'x_s': 450, 'y_s': 250, 'type': 3},\n",
       " {'x_s': 320, 'y_s': 442, 'type': 3},\n",
       " {'x_s': 2, 'y_s': 212, 'type': 1},\n",
       " {'x_s': 193, 'y_s': 76, 'type': 3},\n",
       " {'x_s': 62, 'y_s': 196, 'type': 1}]"
      ]
     },
     "execution_count": 9,
     "metadata": {},
     "output_type": "execute_result"
    }
   ],
   "source": [
    "data"
   ]
  },
  {
   "cell_type": "code",
   "execution_count": 10,
   "metadata": {
    "colab": {},
    "colab_type": "code",
    "id": "K40c5mk2k0qa"
   },
   "outputs": [],
   "source": [
    "k=1\n",
    "def constraint(a,data):\n",
    "  s_site_cor=[]\n",
    "  d_lis=[]\n",
    "  for i in range(len(a)):\n",
    "    if(a[i]==1):\n",
    "      s_site_cor.append(sensor_coordinate[i])\n",
    "      d_lis.append(dis_list[i])\n",
    "  s=np.array(s_site_cor)\n",
    "  d=np.array(d_lis)\n",
    "  for j in range(len(targets)):\n",
    "    distance=np.linalg.norm((targets[j]-s),axis=1)-d\n",
    "    if((distance<=0).sum()<k):\n",
    "      return 0\n",
    "  return 1\n",
    "\n"
   ]
  },
  {
   "cell_type": "code",
   "execution_count": 45,
   "metadata": {
    "colab": {
     "base_uri": "https://localhost:8080/",
     "height": 374
    },
    "colab_type": "code",
    "id": "TySvA_46aPQK",
    "outputId": "8829c1a2-ddcb-4d4b-ef24-828b12563d9b"
   },
   "outputs": [
    {
     "name": "stdout",
     "output_type": "stream",
     "text": [
      "(1905, [0, 1, 0, 0, 0, 1, 0, 1, 0, 0, 0, 0, 0, 0, 0, 0, 1, 0, 0, 0, 0, 0, 1, 0, 0, 0, 0, 0, 0, 0, 0, 0, 0, 0, 0, 0, 0, 0, 0, 0, 0, 0, 0, 0, 0, 0, 0, 0, 0, 0, 0, 0, 0, 1, 0, 1, 0, 0, 0, 0, 0, 0, 0, 0, 0, 0, 0, 0, 0, 1, 0, 0, 0, 0, 0, 0, 0, 0, 0, 0, 0, 0, 0, 0, 0, 0, 0, 0])\n",
      "99\n"
     ]
    }
   ],
   "source": [
    "ga=GeneticAlgorithm(data,population_size=500,generations=100,crossover_probability=0.8,mutation_probability=0.2,elitism=True,maximise_fitness=False)\n",
    "\n",
    "def create_individual(data):\n",
    "  return [random.randint(0, 1) for _ in range(len(data))]\n",
    "ga.create_individual = create_individual\n",
    "\n",
    "def crossover(parent_1, parent_2):\n",
    "  index = random.randrange(1, len(parent_1))\n",
    "  child_1 = parent_1[:index] + parent_2[index:]\n",
    "  child_2 = parent_2[:index] + parent_1[index:]\n",
    "  return child_1, child_2\n",
    "ga.crossover_function=crossover\n",
    "\n",
    "\n",
    "def mutation(individual):\n",
    "  mutate_index = random.randrange(len(individual))\n",
    "  if (individual[mutate_index]==0):\n",
    "    individual[mutate_index]=1\n",
    "  else:\n",
    "    individual[mutate_index]=0\n",
    "ga.mutate_function = mutation\n",
    "\n",
    "def fitness(individual,data):\n",
    "  result=0\n",
    "  if(constraint(individual,data)==0):\n",
    "    result=999999\n",
    "  else:\n",
    "    for i in range(len(individual)):\n",
    "      result=result+individual[i]*cost_list[i]\n",
    "  return result\n",
    "ga.fitness_function = fitness\n",
    "ga.rank_population()\n",
    "cost=ga.run()\n",
    "\n",
    "print(ga.best_individual())\n",
    "print(len(cost))"
   ]
  },
  {
   "cell_type": "code",
   "execution_count": 46,
   "metadata": {
    "colab": {
     "base_uri": "https://localhost:8080/",
     "height": 34
    },
    "colab_type": "code",
    "id": "6k6SBDohAQtk",
    "outputId": "050a16b4-b258-4ffa-8ff4-541c05330f68"
   },
   "outputs": [
    {
     "name": "stdout",
     "output_type": "stream",
     "text": [
      "The final number of sensors is 8\n"
     ]
    }
   ],
   "source": [
    "print(\"The final number of sensors is {}\".format((ga.best_individual()[1]).count(1)))"
   ]
  },
  {
   "cell_type": "code",
   "execution_count": 47,
   "metadata": {},
   "outputs": [
    {
     "data": {
      "text/plain": [
       "[<matplotlib.lines.Line2D at 0x22f0576bf88>]"
      ]
     },
     "execution_count": 47,
     "metadata": {},
     "output_type": "execute_result"
    },
    {
     "data": {
      "image/png": "[encoded data removed]",
      "text/plain": [
       "<Figure size 432x288 with 1 Axes>"
      ]
     },
     "metadata": {
      "needs_background": "light"
     },
     "output_type": "display_data"
    }
   ],
   "source": [
    "c=[]\n",
    "for i in range(len(cost)):\n",
    "     c.append(cost[i].fitness)\n",
    "plt.plot(c)"
   ]
  },
  {
   "cell_type": "code",
   "execution_count": 48,
   "metadata": {
    "colab": {},
    "colab_type": "code",
    "id": "frCYMr9hESqY"
   },
   "outputs": [],
   "source": [
    "solution=ga.best_individual()[1]\n",
    "sfc=[]\n",
    "dist=[]\n",
    "for i in range(len(solution)):\n",
    "  if(solution[i]==1):\n",
    "    sfc.append(sensor_coordinate[i])\n",
    "    dist.append(dis_list[i])\n",
    "s_final=np.array(sfc)\n",
    "d_final=np.array(dist)"
   ]
  },
  {
   "cell_type": "code",
   "execution_count": 49,
   "metadata": {
    "colab": {
     "base_uri": "https://localhost:8080/",
     "height": 265
    },
    "colab_type": "code",
    "id": "4WzkFrsiF_XW",
    "outputId": "eaa3c2fd-c06c-4ac1-bf51-44a79df41dfd"
   },
   "outputs": [
    {
     "data": {
      "image/png": "[encoded data removed]",
      "text/plain": [
       "<Figure size 432x288 with 1 Axes>"
      ]
     },
     "metadata": {
      "needs_background": "light"
     },
     "output_type": "display_data"
    }
   ],
   "source": [
    "import matplotlib.patches as mpathes\n",
    "targets=np.array(targets)\n",
    "fig,ax = plt.subplots()\n",
    "plt.scatter(targets[:,0],targets[:,1],marker='x',c='blue',label=\"location of targets\")\n",
    "plt.scatter(s_final[:,0],s_final[:,1],marker='o',c='red',label=\"location of sensor\")\n",
    "for i in range(len(s_final)):\n",
    "  circle = mpathes.Circle(s_final[i],d_final[i],color=\"none\",ec=\"black\")\n",
    "  ax.add_patch(circle)\n",
    "plt.axis([0,500,0,500])\n",
    "plt.axis('equal')\n",
    "plt.legend()\n",
    "plt.show()"
   ]
  },
  {
   "cell_type": "code",
   "execution_count": null,
   "metadata": {
    "colab": {},
    "colab_type": "code",
    "id": "021TI1jerKbO"
   },
   "outputs": [],
   "source": []
  }
 ],
 "metadata": {
  "colab": {
   "name": "ECE659 genetic algorithm.ipynb",
   "provenance": []
  },
  "kernelspec": {
   "display_name": "Python 3",
   "language": "python",
   "name": "python3"
  },
  "language_info": {
   "codemirror_mode": {
    "name": "ipython",
    "version": 3
   },
   "file_extension": ".py",
   "mimetype": "text/x-python",
   "name": "python",
   "nbconvert_exporter": "python",
   "pygments_lexer": "ipython3",
   "version": "3.7.6"
  },
  "pycharm": {
   "stem_cell": {
    "cell_type": "raw",
    "metadata": {
     "collapsed": false
    },
    "source": []
   }
  }
 },
 "nbformat": 4,
 "nbformat_minor": 1
}
